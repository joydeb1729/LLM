{
 "cells": [
  {
   "cell_type": "code",
   "execution_count": 2,
   "id": "e2dcf2bb",
   "metadata": {},
   "outputs": [],
   "source": [
    "import os\n",
    "from llama_index.core import SimpleDirectoryReader,VectorStoreIndex\n",
    "\n",
    "from langchain.embeddings import HuggingFaceEmbeddings\n",
    "from llama_index.embeddings.langchain import LangchainEmbedding\n",
    "\n",
    "from groq import Groq\n",
    "\n",
    "from dotenv import load_dotenv"
   ]
  },
  {
   "cell_type": "code",
   "execution_count": 3,
   "id": "e686e3b0",
   "metadata": {},
   "outputs": [
    {
     "data": {
      "text/plain": [
       "True"
      ]
     },
     "execution_count": 3,
     "metadata": {},
     "output_type": "execute_result"
    }
   ],
   "source": [
    "load_dotenv()  # loads .env into environment"
   ]
  },
  {
   "cell_type": "code",
   "execution_count": 4,
   "id": "9b66d133",
   "metadata": {},
   "outputs": [],
   "source": [
    "# STEP 1: Load and extract text from local directory\n",
    "def get_clean_text_from_directory(directory_path: str) -> str:\n",
    "    documents = SimpleDirectoryReader(directory_path).load_data()\n",
    "    return \"\\n\\n\".join(doc.text for doc in documents)"
   ]
  },
  {
   "cell_type": "code",
   "execution_count": 5,
   "id": "cda10bca",
   "metadata": {},
   "outputs": [],
   "source": [
    "# STEP 2: Build the prompt with context + query\n",
    "def query_with_context(context: str, question: str) -> str:\n",
    "    prompt = f\"\"\"Use the following context to answer the question.\n",
    "\n",
    "Context:\n",
    "{context}\n",
    "\n",
    "Question:\n",
    "{question}\n",
    "\"\"\"\n",
    "    client = Groq(api_key=os.environ.get(\"GROQ_API_KEY\"))\n",
    "    chat_completion = client.chat.completions.create(\n",
    "        messages=[{\"role\": \"user\", \"content\": prompt}],\n",
    "        model=\"llama3-8b-8192\"\n",
    "    )\n",
    "    return chat_completion.choices[0].message.content"
   ]
  },
  {
   "cell_type": "code",
   "execution_count": 6,
   "id": "1d9d0bbc",
   "metadata": {},
   "outputs": [],
   "source": [
    "from IPython.display import Markdown, display\n",
    "\n",
    "def to_markdown(text):\n",
    "    display(Markdown(text))\n"
   ]
  },
  {
   "cell_type": "code",
   "execution_count": 7,
   "id": "baec9cbc",
   "metadata": {},
   "outputs": [
    {
     "data": {
      "text/markdown": [
       "Based on the provided course catalog, here are the courses that teach programming:\n",
       "\n",
       "1. **0714 02 CSE 1101**: Structured Programming (Theory)\n",
       "2. **0714 02 CSE 2101**: Data Structures (Theory)\n",
       "3. **0714 02 CSE 3101**: Data Communication and Computer Networks (Theory)\n",
       "4. **0714 02 CSE 4103**: Compiler Design (Theory)\n",
       "5. **0714 02 CSE 4221**: Pattern Recognition (Theory)\n",
       "6. **0714 02 CSE 4223**: Data Mining (Theory)\n",
       "7. **0714 02 CSE 4225**: Digital System Design (Theory)\n",
       "\n",
       "Additionally, some courses have a practical component, which includes programming aspects:\n",
       "\n",
       "1. **0714 02 CSE 1102**: Structured Programming Laboratory (Sessional)\n",
       "2. **0714 02 CSE 2102**: Data Structures Laboratory (Sessional)\n",
       "3. **0714 02 CSE 3102**: Data Communication and Computer Networks Laboratory/Fieldwork (Sessional)\n",
       "4. **0714 02 CSE 4104**: Compiler Design Laboratory/Project (Practical)\n",
       "5. **0714 02 CSE 4222**: Pattern Recognition Laboratory/Project (Practical)\n",
       "6. **0714 02 CSE 4224**: Data Mining Laboratory/Fieldwork (Practical)\n",
       "7. **0714 02 CSE 4226**: Digital System Design Laboratory/Project (Practical)\n",
       "\n",
       "Please note that some courses may have additional programming-related topics or projects, even if they are not primarily focused on programming."
      ],
      "text/plain": [
       "<IPython.core.display.Markdown object>"
      ]
     },
     "metadata": {},
     "output_type": "display_data"
    }
   ],
   "source": [
    "# STEP 3: Main function: Run and ask query\n",
    "def main():\n",
    "    directory_path = \"data\"\n",
    "    context = get_clean_text_from_directory(directory_path)\n",
    "    \n",
    "    question = str(input(\"What do you want to know about KU CSE Curriculum?\"))\n",
    "    response = query_with_context(context, question)\n",
    "    \n",
    "    to_markdown(response)\n",
    "\n",
    "if __name__ == \"__main__\":\n",
    "    main()\n"
   ]
  }
 ],
 "metadata": {
  "kernelspec": {
   "display_name": "Python 3",
   "language": "python",
   "name": "python3"
  },
  "language_info": {
   "codemirror_mode": {
    "name": "ipython",
    "version": 3
   },
   "file_extension": ".py",
   "mimetype": "text/x-python",
   "name": "python",
   "nbconvert_exporter": "python",
   "pygments_lexer": "ipython3",
   "version": "3.12.10"
  }
 },
 "nbformat": 4,
 "nbformat_minor": 5
}
