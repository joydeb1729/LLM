{
 "cells": [
  {
   "cell_type": "code",
   "execution_count": 3,
   "id": "e2dcf2bb",
   "metadata": {},
   "outputs": [],
   "source": [
    "import os\n",
    "from llama_index.core import SimpleDirectoryReader,VectorStoreIndex\n",
    "\n",
    "from langchain.embeddings import HuggingFaceEmbeddings\n",
    "from llama_index.embeddings.langchain import LangchainEmbedding\n",
    "\n",
    "from groq import Groq\n",
    "\n",
    "from dotenv import load_dotenv"
   ]
  },
  {
   "cell_type": "code",
   "execution_count": 4,
   "id": "e686e3b0",
   "metadata": {},
   "outputs": [
    {
     "data": {
      "text/plain": [
       "True"
      ]
     },
     "execution_count": 4,
     "metadata": {},
     "output_type": "execute_result"
    }
   ],
   "source": [
    "load_dotenv()  # loads .env into environment"
   ]
  },
  {
   "cell_type": "code",
   "execution_count": 5,
   "id": "9b66d133",
   "metadata": {},
   "outputs": [],
   "source": [
    "# STEP 1: Load and extract text from local directory\n",
    "def get_clean_text_from_directory(directory_path: str) -> str:\n",
    "    documents = SimpleDirectoryReader(directory_path).load_data()\n",
    "    return \"\\n\\n\".join(doc.text for doc in documents)"
   ]
  },
  {
   "cell_type": "code",
   "execution_count": 6,
   "id": "cda10bca",
   "metadata": {},
   "outputs": [],
   "source": [
    "# STEP 2: Build the prompt with context + query\n",
    "def query_with_context(context: str, question: str) -> str:\n",
    "    prompt = f\"\"\"Use the following context to answer the question.\n",
    "\n",
    "Context:\n",
    "{context}\n",
    "\n",
    "Question:\n",
    "{question}\n",
    "\"\"\"\n",
    "    client = Groq(api_key=os.environ.get(\"GROQ_API_KEY\"))\n",
    "    chat_completion = client.chat.completions.create(\n",
    "        messages=[{\"role\": \"user\", \"content\": prompt}],\n",
    "        model=\"llama3-8b-8192\"\n",
    "    )\n",
    "    return chat_completion.choices[0].message.content"
   ]
  },
  {
   "cell_type": "code",
   "execution_count": 14,
   "id": "baec9cbc",
   "metadata": {},
   "outputs": [
    {
     "name": "stdout",
     "output_type": "stream",
     "text": [
      "Based on the provided course list, here are some courses that teach programming:\n",
      "\n",
      "1. **0714 02 CSE 1101: Structured Programming** (Core, 3.0 credits) - Theory course with programming skills.\n",
      "2. **0714 02 CSE 1201: Object Oriented Programming** (Core, 3.0 credits) - Theory course with programming skills.\n",
      "3. **0714 02 CSE 2101: Data Structures** (Core, 3.0 credits) - Theory course with programming skills.\n",
      "4. **0714 02 CSE 3101: Data Communication and Computer Networks** (Core, 3.0 credits) - Theory course with programming skills ( networking programming).\n",
      "5. **0714 02 CSE 4103: Compiler Design** (Core, 3.0 credits) - Theory course with programming skills (compilers and parsing).\n",
      "6. **0714 02 CSE 4105: Computer Graphics** (Core, 3.0 credits) - Theory course with programming skills (graphic programming).\n",
      "7. **0714 02 CSE 4107: Information Security** (Core, 3.0 credits) - Theory course with programming skills (security programming).\n",
      "8. **0714 02 CSE 4202: Web Programming & Mobile Applications Development** (Core, 2.25 credits) - Theory course with programming skills (web development).\n",
      "9. **0714 02 CSE 4221: Pattern Recognition** (Optional, 3.0 credits) - Theory course with programming skills (machine learning).\n",
      "10. **0714 02 CSE 4223: Data Mining** (Optional, 3.0 credits) - Theory course with programming skills (data mining).\n",
      "\n",
      "Please note that these courses may have prerequisites, and some may be optional. Additionally, this list is not exhaustive, and there might be other courses that involve programming that are not listed here.\n"
     ]
    }
   ],
   "source": [
    "# STEP 3: Main function: Run and ask query\n",
    "def main():\n",
    "    directory_path = \"data\"\n",
    "    context = get_clean_text_from_directory(directory_path)\n",
    "    \n",
    "    question = str(input(\"What do you want to know about KU CSE Curriculum?\"))\n",
    "    response = query_with_context(context, question)\n",
    "    print(response)\n",
    "\n",
    "if __name__ == \"__main__\":\n",
    "    main()\n"
   ]
  }
 ],
 "metadata": {
  "kernelspec": {
   "display_name": "Python 3",
   "language": "python",
   "name": "python3"
  },
  "language_info": {
   "codemirror_mode": {
    "name": "ipython",
    "version": 3
   },
   "file_extension": ".py",
   "mimetype": "text/x-python",
   "name": "python",
   "nbconvert_exporter": "python",
   "pygments_lexer": "ipython3",
   "version": "3.12.10"
  }
 },
 "nbformat": 4,
 "nbformat_minor": 5
}
