{
 "cells": [
  {
   "cell_type": "code",
   "execution_count": 4,
   "id": "f5c4cf50",
   "metadata": {},
   "outputs": [],
   "source": [
    "import os\n",
    "import requests\n",
    "from bs4 import BeautifulSoup\n",
    "from groq import Groq\n",
    "from dotenv import load_dotenv"
   ]
  },
  {
   "cell_type": "code",
   "execution_count": null,
   "id": "0bf85728",
   "metadata": {},
   "outputs": [
    {
     "name": "stdout",
     "output_type": "stream",
     "text": [
      "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\n"
     ]
    }
   ],
   "source": [
    "load_dotenv()  # loads .env into environment"
   ]
  },
  {
   "cell_type": "code",
   "execution_count": 6,
   "id": "bd13f748",
   "metadata": {},
   "outputs": [],
   "source": [
    "client = Groq(api_key=os.environ.get(\"GROQ_API_KEY\"))"
   ]
  },
  {
   "cell_type": "code",
   "execution_count": 7,
   "id": "a8f10467",
   "metadata": {},
   "outputs": [],
   "source": [
    "# STEP 1: Load and extract text from a web page\n",
    "def get_clean_text_from_url(url: str) -> str:\n",
    "    response = requests.get(url)\n",
    "    soup = BeautifulSoup(response.text, \"html.parser\")\n",
    "    # Remove scripts/styles and clean text\n",
    "    for script in soup([\"script\", \"style\"]):\n",
    "        script.extract()\n",
    "    text = soup.get_text(separator=\"\\n\")\n",
    "    return \"\\n\".join(line.strip() for line in text.splitlines() if line.strip())\n"
   ]
  },
  {
   "cell_type": "code",
   "execution_count": 8,
   "id": "21319c96",
   "metadata": {},
   "outputs": [],
   "source": [
    "# STEP 2: Build the prompt with context + query\n",
    "def query_with_context(context: str, question: str) -> str:\n",
    "    prompt = f\"\"\"Use the following context to answer the question.\n",
    "\n",
    "Context:\n",
    "{context}\n",
    "\n",
    "Question:\n",
    "{question}\n",
    "\"\"\"\n",
    "    chat_completion = client.chat.completions.create(\n",
    "        messages=[{\"role\": \"user\", \"content\": prompt}],\n",
    "        model=\"llama3-8b-8192\"\n",
    "    )\n",
    "    return chat_completion.choices[0].message.content"
   ]
  },
  {
   "cell_type": "code",
   "execution_count": 9,
   "id": "28a183d2",
   "metadata": {},
   "outputs": [
    {
     "name": "stdout",
     "output_type": "stream",
     "text": [
      "According to the context, Prim's Algorithm is a minimum spanning tree algorithm that takes a graph as input and finds the subset of the edges of that graph which form a tree that includes every vertex and has the minimum sum of weights among all the trees that can be formed from the graph. It is a greedy algorithm that finds the local optimum in the hopes of finding a global optimum. The algorithm starts from one vertex and keeps adding edges with the lowest weight until it reaches the goal, forming a minimum spanning tree.\n"
     ]
    }
   ],
   "source": [
    "# STEP 3: Main function\n",
    "def main():\n",
    "    url = \"https://www.programiz.com/dsa/prim-algorithm\"\n",
    "    context = get_clean_text_from_url(url)\n",
    "    question = \"What is Prim's Algorithm?\"\n",
    "    response = query_with_context(context, question)\n",
    "    print(response)\n",
    "\n",
    "if __name__ == \"__main__\":\n",
    "    main()"
   ]
  }
 ],
 "metadata": {
  "kernelspec": {
   "display_name": "Python 3",
   "language": "python",
   "name": "python3"
  },
  "language_info": {
   "codemirror_mode": {
    "name": "ipython",
    "version": 3
   },
   "file_extension": ".py",
   "mimetype": "text/x-python",
   "name": "python",
   "nbconvert_exporter": "python",
   "pygments_lexer": "ipython3",
   "version": "3.12.10"
  }
 },
 "nbformat": 4,
 "nbformat_minor": 5
}
